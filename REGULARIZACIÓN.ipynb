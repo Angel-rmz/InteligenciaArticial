{
  "nbformat": 4,
  "nbformat_minor": 0,
  "metadata": {
    "colab": {
      "provenance": [],
      "authorship_tag": "ABX9TyNNroimaAugj8aaU9LBL+gX",
      "include_colab_link": true
    },
    "kernelspec": {
      "name": "python3",
      "display_name": "Python 3"
    },
    "language_info": {
      "name": "python"
    }
  },
  "cells": [
    {
      "cell_type": "markdown",
      "metadata": {
        "id": "view-in-github",
        "colab_type": "text"
      },
      "source": [
        "<a href=\"https://colab.research.google.com/github/Angel-rmz/InteligenciaArticial/blob/main/REGULARIZACI%C3%93N.ipynb\" target=\"_parent\"><img src=\"https://colab.research.google.com/assets/colab-badge.svg\" alt=\"Open In Colab\"/></a>"
      ]
    },
    {
      "cell_type": "markdown",
      "source": [
        "REGULARIZACIÓN - UNIDAD 3 Y 4\n",
        "\n"
      ],
      "metadata": {
        "id": "jq1gbaimiANL"
      }
    },
    {
      "cell_type": "code",
      "source": [
        "import tensorflow as tf\n",
        "from sklearn.model_selection import train_test_split\n",
        "from sklearn.preprocessing import StandardScaler\n",
        "import numpy as np"
      ],
      "metadata": {
        "id": "cDZtTcsgiGLy"
      },
      "execution_count": 16,
      "outputs": []
    },
    {
      "cell_type": "code",
      "source": [
        "joules_data = [100, 200, 300, 400, 500]  # Ejemplo de datos en Joules\n",
        "pie_libras_data = [74.52, 149.04, 223.56, 298.08, 372.6]  # Ejemplo de datos en pie-libras\n"
      ],
      "metadata": {
        "id": "Ahx-u_PIjNxb"
      },
      "execution_count": 17,
      "outputs": []
    },
    {
      "cell_type": "code",
      "source": [
        "X = np.array(joules_data).reshape(-1, 1)\n",
        "y = np.array(pie_libras_data)"
      ],
      "metadata": {
        "id": "4EUByKSQjjfY"
      },
      "execution_count": 18,
      "outputs": []
    },
    {
      "cell_type": "code",
      "source": [
        "X_train, X_test, y_train, y_test = train_test_split(X, y, test_size=0.2, random_state=42)\n",
        "\n",
        "\n"
      ],
      "metadata": {
        "id": "zMHkP8sHjr18"
      },
      "execution_count": 19,
      "outputs": []
    },
    {
      "cell_type": "code",
      "source": [
        "scaler = StandardScaler()\n",
        "X_train_scaled = scaler.fit_transform(X_train)\n",
        "X_test_scaled = scaler.transform(X_test)\n"
      ],
      "metadata": {
        "id": "t_pcCrL8l4aI"
      },
      "execution_count": 20,
      "outputs": []
    },
    {
      "cell_type": "code",
      "source": [
        "model = tf.keras.Sequential([\n",
        "    tf.keras.layers.Dense(128, activation='relu', input_shape=(1,)),\n",
        "    tf.keras.layers.Dense(64, activation='relu'),\n",
        "    tf.keras.layers.Dense(1)\n",
        "])\n"
      ],
      "metadata": {
        "id": "wmU0f1aBmEdG"
      },
      "execution_count": 21,
      "outputs": []
    },
    {
      "cell_type": "code",
      "source": [
        "model.compile(optimizer='adam',\n",
        "loss='mean_squared_error',\n",
        "metrics=['mae'])\n"
      ],
      "metadata": {
        "id": "g5AjK8TimJ3P"
      },
      "execution_count": 23,
      "outputs": []
    },
    {
      "cell_type": "code",
      "source": [
        "model.fit(X_train_scaled, y_train,\n",
        "epochs=50, batch_size=32,\n",
        "validation_split=0.2)"
      ],
      "metadata": {
        "colab": {
          "base_uri": "https://localhost:8080/"
        },
        "id": "GTqMGC3XmNe8",
        "outputId": "d8d94432-3a06-4fc3-e289-0e88e8d5f6bc"
      },
      "execution_count": 24,
      "outputs": [
        {
          "output_type": "stream",
          "name": "stdout",
          "text": [
            "Epoch 1/50\n",
            "1/1 [==============================] - 2s 2s/step - loss: 64792.5781 - mae: 223.5509 - val_loss: 88846.1484 - val_mae: 298.0707\n",
            "Epoch 2/50\n",
            "1/1 [==============================] - 0s 110ms/step - loss: 64774.3398 - mae: 223.5013 - val_loss: 88831.9219 - val_mae: 298.0468\n",
            "Epoch 3/50\n",
            "1/1 [==============================] - 0s 62ms/step - loss: 64756.3906 - mae: 223.4523 - val_loss: 88819.2578 - val_mae: 298.0256\n",
            "Epoch 4/50\n",
            "1/1 [==============================] - 0s 69ms/step - loss: 64739.5273 - mae: 223.4057 - val_loss: 88808.1094 - val_mae: 298.0069\n",
            "Epoch 5/50\n",
            "1/1 [==============================] - 0s 82ms/step - loss: 64723.9336 - mae: 223.3617 - val_loss: 88796.6484 - val_mae: 297.9877\n",
            "Epoch 6/50\n",
            "1/1 [==============================] - 0s 79ms/step - loss: 64709.0469 - mae: 223.3197 - val_loss: 88784.9766 - val_mae: 297.9681\n",
            "Epoch 7/50\n",
            "1/1 [==============================] - 0s 62ms/step - loss: 64694.0742 - mae: 223.2779 - val_loss: 88773.7188 - val_mae: 297.9492\n",
            "Epoch 8/50\n",
            "1/1 [==============================] - 0s 46ms/step - loss: 64679.0000 - mae: 223.2358 - val_loss: 88762.3750 - val_mae: 297.9301\n",
            "Epoch 9/50\n",
            "1/1 [==============================] - 0s 59ms/step - loss: 64663.8789 - mae: 223.1935 - val_loss: 88751.0234 - val_mae: 297.9111\n",
            "Epoch 10/50\n",
            "1/1 [==============================] - 0s 68ms/step - loss: 64649.0000 - mae: 223.1522 - val_loss: 88739.9531 - val_mae: 297.8925\n",
            "Epoch 11/50\n",
            "1/1 [==============================] - 0s 53ms/step - loss: 64634.0820 - mae: 223.1106 - val_loss: 88728.6406 - val_mae: 297.8735\n",
            "Epoch 12/50\n",
            "1/1 [==============================] - 0s 67ms/step - loss: 64619.1523 - mae: 223.0687 - val_loss: 88717.0781 - val_mae: 297.8541\n",
            "Epoch 13/50\n",
            "1/1 [==============================] - 0s 73ms/step - loss: 64604.0664 - mae: 223.0255 - val_loss: 88705.1875 - val_mae: 297.8342\n",
            "Epoch 14/50\n",
            "1/1 [==============================] - 0s 67ms/step - loss: 64588.4727 - mae: 222.9801 - val_loss: 88692.9766 - val_mae: 297.8137\n",
            "Epoch 15/50\n",
            "1/1 [==============================] - 0s 65ms/step - loss: 64572.4844 - mae: 222.9335 - val_loss: 88680.5234 - val_mae: 297.7928\n",
            "Epoch 16/50\n",
            "1/1 [==============================] - 0s 65ms/step - loss: 64556.0938 - mae: 222.8858 - val_loss: 88667.6406 - val_mae: 297.7711\n",
            "Epoch 17/50\n",
            "1/1 [==============================] - 0s 50ms/step - loss: 64539.1758 - mae: 222.8374 - val_loss: 88654.3516 - val_mae: 297.7488\n",
            "Epoch 18/50\n",
            "1/1 [==============================] - 0s 57ms/step - loss: 64521.8242 - mae: 222.7876 - val_loss: 88640.7969 - val_mae: 297.7260\n",
            "Epoch 19/50\n",
            "1/1 [==============================] - 0s 81ms/step - loss: 64503.9336 - mae: 222.7360 - val_loss: 88627.0781 - val_mae: 297.7030\n",
            "Epoch 20/50\n",
            "1/1 [==============================] - 0s 65ms/step - loss: 64485.5195 - mae: 222.6828 - val_loss: 88612.7266 - val_mae: 297.6789\n",
            "Epoch 21/50\n",
            "1/1 [==============================] - 0s 51ms/step - loss: 64466.3281 - mae: 222.6276 - val_loss: 88597.8438 - val_mae: 297.6539\n",
            "Epoch 22/50\n",
            "1/1 [==============================] - 0s 64ms/step - loss: 64446.7188 - mae: 222.5710 - val_loss: 88582.3516 - val_mae: 297.6279\n",
            "Epoch 23/50\n",
            "1/1 [==============================] - 0s 54ms/step - loss: 64426.4570 - mae: 222.5125 - val_loss: 88566.2344 - val_mae: 297.6008\n",
            "Epoch 24/50\n",
            "1/1 [==============================] - 0s 47ms/step - loss: 64405.5430 - mae: 222.4522 - val_loss: 88549.6016 - val_mae: 297.5728\n",
            "Epoch 25/50\n",
            "1/1 [==============================] - 0s 85ms/step - loss: 64383.9375 - mae: 222.3901 - val_loss: 88532.3438 - val_mae: 297.5439\n",
            "Epoch 26/50\n",
            "1/1 [==============================] - 0s 66ms/step - loss: 64361.6211 - mae: 222.3259 - val_loss: 88514.4766 - val_mae: 297.5138\n",
            "Epoch 27/50\n",
            "1/1 [==============================] - 0s 70ms/step - loss: 64338.4258 - mae: 222.2595 - val_loss: 88495.9766 - val_mae: 297.4827\n",
            "Epoch 28/50\n",
            "1/1 [==============================] - 0s 65ms/step - loss: 64314.4062 - mae: 222.1909 - val_loss: 88476.7422 - val_mae: 297.4504\n",
            "Epoch 29/50\n",
            "1/1 [==============================] - 0s 72ms/step - loss: 64289.5117 - mae: 222.1199 - val_loss: 88456.7031 - val_mae: 297.4167\n",
            "Epoch 30/50\n",
            "1/1 [==============================] - 0s 48ms/step - loss: 64263.6250 - mae: 222.0463 - val_loss: 88435.8672 - val_mae: 297.3817\n",
            "Epoch 31/50\n",
            "1/1 [==============================] - 0s 56ms/step - loss: 64236.8125 - mae: 221.9702 - val_loss: 88414.2344 - val_mae: 297.3453\n",
            "Epoch 32/50\n",
            "1/1 [==============================] - 0s 72ms/step - loss: 64208.8945 - mae: 221.8911 - val_loss: 88391.4531 - val_mae: 297.3070\n",
            "Epoch 33/50\n",
            "1/1 [==============================] - 0s 54ms/step - loss: 64179.4102 - mae: 221.8078 - val_loss: 88367.6328 - val_mae: 297.2669\n",
            "Epoch 34/50\n",
            "1/1 [==============================] - 0s 96ms/step - loss: 64148.6602 - mae: 221.7213 - val_loss: 88342.7422 - val_mae: 297.2251\n",
            "Epoch 35/50\n",
            "1/1 [==============================] - 0s 64ms/step - loss: 64116.6992 - mae: 221.6315 - val_loss: 88316.6562 - val_mae: 297.1812\n",
            "Epoch 36/50\n",
            "1/1 [==============================] - 0s 54ms/step - loss: 64083.5039 - mae: 221.5384 - val_loss: 88289.5234 - val_mae: 297.1355\n",
            "Epoch 37/50\n",
            "1/1 [==============================] - 0s 36ms/step - loss: 64049.0742 - mae: 221.4420 - val_loss: 88261.3047 - val_mae: 297.0880\n",
            "Epoch 38/50\n",
            "1/1 [==============================] - 0s 37ms/step - loss: 64013.4805 - mae: 221.3431 - val_loss: 88232.0078 - val_mae: 297.0387\n",
            "Epoch 39/50\n",
            "1/1 [==============================] - 0s 37ms/step - loss: 63976.5938 - mae: 221.2407 - val_loss: 88201.4062 - val_mae: 296.9872\n",
            "Epoch 40/50\n",
            "1/1 [==============================] - 0s 40ms/step - loss: 63938.3633 - mae: 221.1345 - val_loss: 88168.7969 - val_mae: 296.9323\n",
            "Epoch 41/50\n",
            "1/1 [==============================] - 0s 36ms/step - loss: 63898.8438 - mae: 221.0247 - val_loss: 88134.0078 - val_mae: 296.8737\n",
            "Epoch 42/50\n",
            "1/1 [==============================] - 0s 36ms/step - loss: 63857.9180 - mae: 220.9109 - val_loss: 88097.1328 - val_mae: 296.8116\n",
            "Epoch 43/50\n",
            "1/1 [==============================] - 0s 36ms/step - loss: 63815.3633 - mae: 220.7930 - val_loss: 88058.4453 - val_mae: 296.7464\n",
            "Epoch 44/50\n",
            "1/1 [==============================] - 0s 36ms/step - loss: 63771.2852 - mae: 220.6710 - val_loss: 88018.1328 - val_mae: 296.6785\n",
            "Epoch 45/50\n",
            "1/1 [==============================] - 0s 35ms/step - loss: 63725.6367 - mae: 220.5446 - val_loss: 87976.2188 - val_mae: 296.6078\n",
            "Epoch 46/50\n",
            "1/1 [==============================] - 0s 36ms/step - loss: 63678.3789 - mae: 220.4138 - val_loss: 87932.4297 - val_mae: 296.5340\n",
            "Epoch 47/50\n",
            "1/1 [==============================] - 0s 37ms/step - loss: 63628.8945 - mae: 220.2777 - val_loss: 87887.1484 - val_mae: 296.4577\n",
            "Epoch 48/50\n",
            "1/1 [==============================] - 0s 36ms/step - loss: 63577.9688 - mae: 220.1373 - val_loss: 87839.1172 - val_mae: 296.3766\n",
            "Epoch 49/50\n",
            "1/1 [==============================] - 0s 44ms/step - loss: 63524.2227 - mae: 219.9904 - val_loss: 87789.1250 - val_mae: 296.2923\n",
            "Epoch 50/50\n",
            "1/1 [==============================] - 0s 38ms/step - loss: 63467.5742 - mae: 219.8362 - val_loss: 87737.2109 - val_mae: 296.2047\n"
          ]
        },
        {
          "output_type": "execute_result",
          "data": {
            "text/plain": [
              "<keras.src.callbacks.History at 0x78b042a55e70>"
            ]
          },
          "metadata": {},
          "execution_count": 24
        }
      ]
    },
    {
      "cell_type": "code",
      "source": [
        "loss, mae = model.evaluate(X_test_scaled, y_test)\n"
      ],
      "metadata": {
        "colab": {
          "base_uri": "https://localhost:8080/"
        },
        "id": "jRqmjrZNm-MN",
        "outputId": "80b88ae9-5a85-4942-8e4e-cd8095617407"
      },
      "execution_count": 25,
      "outputs": [
        {
          "output_type": "stream",
          "name": "stdout",
          "text": [
            "1/1 [==============================] - 0s 38ms/step - loss: 20983.8105 - mae: 144.8579\n"
          ]
        }
      ]
    },
    {
      "cell_type": "code",
      "source": [
        "print(f'Loss: {loss}, MAE: {mae}')"
      ],
      "metadata": {
        "colab": {
          "base_uri": "https://localhost:8080/"
        },
        "id": "YPo_cWePnE4Y",
        "outputId": "cc87c4d3-3416-40b3-90b3-081821129d68"
      },
      "execution_count": 26,
      "outputs": [
        {
          "output_type": "stream",
          "name": "stdout",
          "text": [
            "Loss: 20983.810546875, MAE: 144.85789489746094\n"
          ]
        }
      ]
    },
    {
      "cell_type": "code",
      "source": [
        "new_data_joules = np.array([500, 890, 880]).reshape(-1, 1)\n",
        "new_data_scaled = scaler.transform(new_data_joules)\n",
        "predictions = model.predict(new_data_scaled)\n",
        "\n",
        "print(\"Predicciones en pie-libras:\")\n",
        "print(predictions.flatten())"
      ],
      "metadata": {
        "colab": {
          "base_uri": "https://localhost:8080/"
        },
        "id": "GoAaapFjnLem",
        "outputId": "57b4a669-10b9-407f-af61-c8137b344a29"
      },
      "execution_count": 31,
      "outputs": [
        {
          "output_type": "stream",
          "name": "stdout",
          "text": [
            "1/1 [==============================] - 0s 23ms/step\n",
            "Predicciones en pie-libras:\n",
            "[3.060609 8.041143 7.912929]\n"
          ]
        }
      ]
    }
  ]
}